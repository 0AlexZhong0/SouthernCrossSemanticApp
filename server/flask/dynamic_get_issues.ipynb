{
 "cells": [
  {
   "cell_type": "code",
   "execution_count": 2,
   "metadata": {},
   "outputs": [],
   "source": [
    "import pandas as pd\n",
    "import numpy as np\n",
    "import json"
   ]
  },
  {
   "cell_type": "code",
   "execution_count": 20,
   "metadata": {},
   "outputs": [],
   "source": [
    "import json\n",
    "import pandas as pd\n",
    "\n",
    "with open(\"issues_sandbox.json\") as issues: \n",
    "    issues_df = pd.DataFrame(json.load(issues))\n",
    "\n",
    "with open(\"symptoms_sandbox.json\") as symptoms: \n",
    "    symptoms_df = pd.DataFrame(json.load(symptoms))\n",
    "\n",
    "def get_ids(df, names):\n",
    "    \"\"\"\n",
    "    find the corresponding id of the issue\n",
    "    @param: df: pandas.DataFrame;  a dataframe which contains all id's and the name of the issues\n",
    "    @return: names: string[];  depending on how many issues the client is interested in\n",
    "    \"\"\"\n",
    "    # check if any of the values in the names variable in the Name column\n",
    "    main_mask = df.Name.isin(names)\n",
    "    issue_ids = []  # ids match with the order of the issues\n",
    "    names_in_df = df[main_mask]\n",
    "    for name in names:\n",
    "        mask = names_in_df.Name == name\n",
    "        issue_id = names_in_df[mask].ID.iloc[0]\n",
    "        issue_ids.append(int(issue_id))\n",
    "    \n",
    "    return issue_ids"
   ]
  },
  {
   "cell_type": "code",
   "execution_count": 22,
   "metadata": {},
   "outputs": [
    {
     "name": "stdout",
     "output_type": "stream",
     "text": [
      "[29, 144]\n"
     ]
    }
   ],
   "source": [
    "names = ['Shortness of breath', 'Unconsciousness, short']\n",
    "ids = get_ids(symptoms_df, names)\n",
    "print(ids)"
   ]
  },
  {
   "cell_type": "code",
   "execution_count": 17,
   "metadata": {},
   "outputs": [
    {
     "data": {
      "text/html": [
       "<div>\n",
       "<style scoped>\n",
       "    .dataframe tbody tr th:only-of-type {\n",
       "        vertical-align: middle;\n",
       "    }\n",
       "\n",
       "    .dataframe tbody tr th {\n",
       "        vertical-align: top;\n",
       "    }\n",
       "\n",
       "    .dataframe thead th {\n",
       "        text-align: right;\n",
       "    }\n",
       "</style>\n",
       "<table border=\"1\" class=\"dataframe\">\n",
       "  <thead>\n",
       "    <tr style=\"text-align: right;\">\n",
       "      <th></th>\n",
       "      <th>ID</th>\n",
       "      <th>Name</th>\n",
       "    </tr>\n",
       "  </thead>\n",
       "  <tbody>\n",
       "    <tr>\n",
       "      <th>43</th>\n",
       "      <td>29</td>\n",
       "      <td>Shortness of breath</td>\n",
       "    </tr>\n",
       "    <tr>\n",
       "      <th>57</th>\n",
       "      <td>144</td>\n",
       "      <td>Unconsciousness, short</td>\n",
       "    </tr>\n",
       "  </tbody>\n",
       "</table>\n",
       "</div>"
      ],
      "text/plain": [
       "     ID                    Name\n",
       "43   29     Shortness of breath\n",
       "57  144  Unconsciousness, short"
      ]
     },
     "execution_count": 17,
     "metadata": {},
     "output_type": "execute_result"
    }
   ],
   "source": [
    "symptoms_df[symptoms_df.Name.isin(names)]"
   ]
  },
  {
   "cell_type": "code",
   "execution_count": null,
   "metadata": {},
   "outputs": [],
   "source": []
  },
  {
   "cell_type": "code",
   "execution_count": null,
   "metadata": {},
   "outputs": [],
   "source": []
  }
 ],
 "metadata": {
  "kernelspec": {
   "display_name": "Python 3",
   "language": "python",
   "name": "python3"
  },
  "language_info": {
   "codemirror_mode": {
    "name": "ipython",
    "version": 3
   },
   "file_extension": ".py",
   "mimetype": "text/x-python",
   "name": "python",
   "nbconvert_exporter": "python",
   "pygments_lexer": "ipython3",
   "version": "3.7.3"
  }
 },
 "nbformat": 4,
 "nbformat_minor": 2
}
